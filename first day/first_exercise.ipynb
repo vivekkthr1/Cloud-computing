{
  "nbformat": 4,
  "nbformat_minor": 0,
  "metadata": {
    "colab": {
      "name": "Untitled0.ipynb",
      "version": "0.3.2",
      "provenance": [],
      "collapsed_sections": []
    },
    "kernelspec": {
      "name": "python3",
      "display_name": "Python 3"
    }
  },
  "cells": [
    {
      "cell_type": "code",
      "metadata": {
        "id": "df-uNjffaTBi",
        "colab_type": "code",
        "outputId": "4770a4d5-f1ad-44cc-8b68-0934a8776a9d",
        "colab": {
          "base_uri": "https://localhost:8080/",
          "height": 102
        }
      },
      "source": [
        "!git clone https://github.com/DeepLearn-lab/modules-cloud.git"
      ],
      "execution_count": 0,
      "outputs": [
        {
          "output_type": "stream",
          "text": [
            "Cloning into 'modules-cloud'...\n",
            "remote: Enumerating objects: 155, done.\u001b[K\n",
            "Receiving objects:   0% (1/155)   \rReceiving objects:   1% (2/155)   \rReceiving objects:   2% (4/155)   \rReceiving objects:   3% (5/155)   \rReceiving objects:   4% (7/155)   \rReceiving objects:   5% (8/155)   \rReceiving objects:   6% (10/155)   \rReceiving objects:   7% (11/155)   \rReceiving objects:   8% (13/155)   \rReceiving objects:   9% (14/155)   \rReceiving objects:  10% (16/155)   \rReceiving objects:  11% (18/155)   \rReceiving objects:  12% (19/155)   \rReceiving objects:  13% (21/155)   \rReceiving objects:  14% (22/155)   \rReceiving objects:  15% (24/155)   \rReceiving objects:  16% (25/155)   \rReceiving objects:  17% (27/155)   \rReceiving objects:  18% (28/155)   \rReceiving objects:  19% (30/155)   \rReceiving objects:  20% (31/155)   \rReceiving objects:  21% (33/155)   \rReceiving objects:  22% (35/155)   \rReceiving objects:  23% (36/155)   \rReceiving objects:  24% (38/155)   \rReceiving objects:  25% (39/155)   \rReceiving objects:  26% (41/155)   \rReceiving objects:  27% (42/155)   \rReceiving objects:  28% (44/155)   \rReceiving objects:  29% (45/155)   \rReceiving objects:  30% (47/155)   \rReceiving objects:  31% (49/155)   \rReceiving objects:  32% (50/155)   \rReceiving objects:  33% (52/155)   \rReceiving objects:  34% (53/155)   \rReceiving objects:  35% (55/155)   \rReceiving objects:  36% (56/155)   \rReceiving objects:  37% (58/155)   \rReceiving objects:  38% (59/155)   \rReceiving objects:  39% (61/155)   \rReceiving objects:  40% (62/155)   \rReceiving objects:  41% (64/155)   \rReceiving objects:  42% (66/155)   \rReceiving objects:  43% (67/155)   \rReceiving objects:  44% (69/155)   \rReceiving objects:  45% (70/155)   \rReceiving objects:  46% (72/155)   \rReceiving objects:  47% (73/155)   \rReceiving objects:  48% (75/155)   \rReceiving objects:  49% (76/155)   \rReceiving objects:  50% (78/155)   \rReceiving objects:  51% (80/155)   \rReceiving objects:  52% (81/155)   \rReceiving objects:  53% (83/155)   \rReceiving objects:  54% (84/155)   \rReceiving objects:  55% (86/155)   \rReceiving objects:  56% (87/155)   \rReceiving objects:  57% (89/155)   \rReceiving objects:  58% (90/155)   \rReceiving objects:  59% (92/155)   \rReceiving objects:  60% (93/155)   \rReceiving objects:  61% (95/155)   \rReceiving objects:  62% (97/155)   \rReceiving objects:  63% (98/155)   \rReceiving objects:  64% (100/155)   \rReceiving objects:  65% (101/155)   \rReceiving objects:  66% (103/155)   \rReceiving objects:  67% (104/155)   \rremote: Total 155 (delta 0), reused 0 (delta 0), pack-reused 155\u001b[K\n",
            "Receiving objects:  68% (106/155)   \rReceiving objects:  69% (107/155)   \rReceiving objects:  70% (109/155)   \rReceiving objects:  71% (111/155)   \rReceiving objects:  72% (112/155)   \rReceiving objects:  73% (114/155)   \rReceiving objects:  74% (115/155)   \rReceiving objects:  75% (117/155)   \rReceiving objects:  76% (118/155)   \rReceiving objects:  77% (120/155)   \rReceiving objects:  78% (121/155)   \rReceiving objects:  79% (123/155)   \rReceiving objects:  80% (124/155)   \rReceiving objects:  81% (126/155)   \rReceiving objects:  82% (128/155)   \rReceiving objects:  83% (129/155)   \rReceiving objects:  84% (131/155)   \rReceiving objects:  85% (132/155)   \rReceiving objects:  86% (134/155)   \rReceiving objects:  87% (135/155)   \rReceiving objects:  88% (137/155)   \rReceiving objects:  89% (138/155)   \rReceiving objects:  90% (140/155)   \rReceiving objects:  91% (142/155)   \rReceiving objects:  92% (143/155)   \rReceiving objects:  93% (145/155)   \rReceiving objects:  94% (146/155)   \rReceiving objects:  95% (148/155)   \rReceiving objects:  96% (149/155)   \rReceiving objects:  97% (151/155)   \rReceiving objects:  98% (152/155)   \rReceiving objects:  99% (154/155)   \rReceiving objects: 100% (155/155)   \rReceiving objects: 100% (155/155), 2.84 MiB | 22.68 MiB/s, done.\n",
            "Resolving deltas:   0% (0/46)   \rResolving deltas:  15% (7/46)   \rResolving deltas:  36% (17/46)   \rResolving deltas:  47% (22/46)   \rResolving deltas:  52% (24/46)   \rResolving deltas:  56% (26/46)   \rResolving deltas:  58% (27/46)   \rResolving deltas:  63% (29/46)   \rResolving deltas:  65% (30/46)   \rResolving deltas:  67% (31/46)   \rResolving deltas:  73% (34/46)   \rResolving deltas:  82% (38/46)   \rResolving deltas:  91% (42/46)   \rResolving deltas:  95% (44/46)   \rResolving deltas:  97% (45/46)   \rResolving deltas: 100% (46/46)   \rResolving deltas: 100% (46/46), done.\n"
          ],
          "name": "stdout"
        }
      ]
    },
    {
      "cell_type": "code",
      "metadata": {
        "id": "fJi8tn2vaqLy",
        "colab_type": "code",
        "outputId": "4f564aba-3638-48a8-dbb8-628b5b691a19",
        "colab": {
          "base_uri": "https://localhost:8080/",
          "height": 54
        }
      },
      "source": [
        "data = open('abc.log')"
      ],
      "execution_count": 0,
      "outputs": [
        {
          "output_type": "execute_result",
          "data": {
            "text/plain": [
              "'user::hp1:::ip::192.168.124.1:::port::24:::url::www.wwe.com\\nuser::hp2:::ip::192.168.124.5:::port::24:::url::www.twitter.com\\nuser::hp3:::ip::192.168.124.6:::port::24:::url::www.google.com\\nuser::hp4:::ip::192.168.124.4:::port::24:::url::www.github.com\\nuser::hp5:::ip::192.168.124.7:::port::24:::url::www.facebook.com\\n'"
            ]
          },
          "metadata": {
            "tags": []
          },
          "execution_count": 3
        }
      ]
    },
    {
      "cell_type": "code",
      "metadata": {
        "id": "-rvU8ttXbX7k",
        "colab_type": "code",
        "outputId": "f14b851c-5dcb-4155-81ef-e8d9cde8353d",
        "colab": {
          "base_uri": "https://localhost:8080/",
          "height": 102
        }
      },
      "source": [
        "data = open('abc.log').readlines()\n",
        "data"
      ],
      "execution_count": 0,
      "outputs": [
        {
          "output_type": "execute_result",
          "data": {
            "text/plain": [
              "['user::hp1:::ip::192.168.124.1:::port::24:::url::www.wwe.com\\n',\n",
              " 'user::hp2:::ip::192.168.124.5:::port::24:::url::www.twitter.com\\n',\n",
              " 'user::hp3:::ip::192.168.124.6:::port::24:::url::www.google.com\\n',\n",
              " 'user::hp4:::ip::192.168.124.4:::port::24:::url::www.github.com\\n',\n",
              " 'user::hp5:::ip::192.168.124.7:::port::24:::url::www.facebook.com\\n']"
            ]
          },
          "metadata": {
            "tags": []
          },
          "execution_count": 4
        }
      ]
    },
    {
      "cell_type": "code",
      "metadata": {
        "id": "wNcUm2I4e6Ax",
        "colab_type": "code",
        "colab": {}
      },
      "source": [
        "a=[]"
      ],
      "execution_count": 0,
      "outputs": []
    },
    {
      "cell_type": "code",
      "metadata": {
        "id": "c7PjCDvwfJlQ",
        "colab_type": "code",
        "outputId": "8de43dd4-0f3a-43b1-c735-caa5396ade94",
        "colab": {
          "base_uri": "https://localhost:8080/",
          "height": 34
        }
      },
      "source": [
        "type(a)"
      ],
      "execution_count": 0,
      "outputs": [
        {
          "output_type": "execute_result",
          "data": {
            "text/plain": [
              "list"
            ]
          },
          "metadata": {
            "tags": []
          },
          "execution_count": 8
        }
      ]
    },
    {
      "cell_type": "code",
      "metadata": {
        "id": "_2NNY9l_fMty",
        "colab_type": "code",
        "outputId": "19e60bc8-5133-437c-854a-ba9f27e4d1cc",
        "colab": {
          "base_uri": "https://localhost:8080/",
          "height": 34
        }
      },
      "source": [
        "a.append(3)\n",
        "print(a)"
      ],
      "execution_count": 0,
      "outputs": [
        {
          "output_type": "stream",
          "text": [
            "[3]\n"
          ],
          "name": "stdout"
        }
      ]
    },
    {
      "cell_type": "code",
      "metadata": {
        "id": "kaMAF4fljaO9",
        "colab_type": "code",
        "colab": {}
      },
      "source": [
        "blocked= ['wwe','twitter','facebook']"
      ],
      "execution_count": 0,
      "outputs": []
    },
    {
      "cell_type": "code",
      "metadata": {
        "id": "ksaGaCqyjjlJ",
        "colab_type": "code",
        "outputId": "9b04cbfb-f0b3-4e63-9c13-1070575b9a16",
        "colab": {
          "base_uri": "https://localhost:8080/",
          "height": 34
        }
      },
      "source": [
        "blocked"
      ],
      "execution_count": 0,
      "outputs": [
        {
          "output_type": "execute_result",
          "data": {
            "text/plain": [
              "['wwe', 'twitter', 'facebook']"
            ]
          },
          "metadata": {
            "tags": []
          },
          "execution_count": 14
        }
      ]
    },
    {
      "cell_type": "code",
      "metadata": {
        "id": "tbwA-2bdjsPU",
        "colab_type": "code",
        "outputId": "dcdfc82e-60e1-4eb3-d46c-1e451cef5c59",
        "colab": {
          "base_uri": "https://localhost:8080/",
          "height": 34
        }
      },
      "source": [
        "data[0]"
      ],
      "execution_count": 0,
      "outputs": [
        {
          "output_type": "execute_result",
          "data": {
            "text/plain": [
              "'user::hp1:::ip::192.168.124.1:::port::24:::url::www.wwe.com\\n'"
            ]
          },
          "metadata": {
            "tags": []
          },
          "execution_count": 15
        }
      ]
    },
    {
      "cell_type": "code",
      "metadata": {
        "id": "2TrN6AKrkEgh",
        "colab_type": "code",
        "colab": {}
      },
      "source": [
        "var = data[0].split('::')"
      ],
      "execution_count": 0,
      "outputs": []
    },
    {
      "cell_type": "code",
      "metadata": {
        "id": "8xJVt0s9kNPc",
        "colab_type": "code",
        "outputId": "47fc3cc3-915f-4585-8122-4e254fc6f1de",
        "colab": {
          "base_uri": "https://localhost:8080/",
          "height": 34
        }
      },
      "source": [
        "var[-1]"
      ],
      "execution_count": 0,
      "outputs": [
        {
          "output_type": "execute_result",
          "data": {
            "text/plain": [
              "'www.wwe.com\\n'"
            ]
          },
          "metadata": {
            "tags": []
          },
          "execution_count": 29
        }
      ]
    },
    {
      "cell_type": "code",
      "metadata": {
        "id": "II73Uc2umFYu",
        "colab_type": "code",
        "colab": {}
      },
      "source": [
        "dns = var[-1].split('.')"
      ],
      "execution_count": 0,
      "outputs": []
    },
    {
      "cell_type": "code",
      "metadata": {
        "id": "bRRc_t4mmOwC",
        "colab_type": "code",
        "outputId": "1ba6f5f6-927d-4370-83f9-6897d9c7b037",
        "colab": {
          "base_uri": "https://localhost:8080/",
          "height": 34
        }
      },
      "source": [
        "dns[1]"
      ],
      "execution_count": 0,
      "outputs": [
        {
          "output_type": "execute_result",
          "data": {
            "text/plain": [
              "'wwe'"
            ]
          },
          "metadata": {
            "tags": []
          },
          "execution_count": 31
        }
      ]
    },
    {
      "cell_type": "code",
      "metadata": {
        "id": "TZltgNwgml29",
        "colab_type": "code",
        "outputId": "9791f6f6-fb51-49fd-f9cb-3c05a8b1d9c9",
        "colab": {
          "base_uri": "https://localhost:8080/",
          "height": 34
        }
      },
      "source": [
        "for i in range(0,len(blocked)):\n",
        "  if dns[1] == blocked[i]:\n",
        "    print('ip-->',var[3],'    user-->',var[1])"
      ],
      "execution_count": 0,
      "outputs": [
        {
          "output_type": "stream",
          "text": [
            "ip--> 192.168.124.1     user--> hp1\n"
          ],
          "name": "stdout"
        }
      ]
    },
    {
      "cell_type": "code",
      "metadata": {
        "id": "hpUqbUFdnLJD",
        "colab_type": "code",
        "outputId": "13ccf296-d1bf-4b1b-c0d1-6b5243db2e1d",
        "colab": {
          "base_uri": "https://localhost:8080/",
          "height": 34
        }
      },
      "source": [
        "for i in blocked:\n",
        "  if dns[1] == i:\n",
        "    print('ip-->',var[3],'    user-->',var[1])"
      ],
      "execution_count": 0,
      "outputs": [
        {
          "output_type": "stream",
          "text": [
            "ip--> 192.168.124.1     user--> hp1\n"
          ],
          "name": "stdout"
        }
      ]
    },
    {
      "cell_type": "code",
      "metadata": {
        "id": "aQjTshr1noWD",
        "colab_type": "code",
        "outputId": "fe446a2d-6551-4ef8-bc75-2ffca9443a35",
        "colab": {
          "base_uri": "https://localhost:8080/",
          "height": 34
        }
      },
      "source": [
        "if i in blocked:\n",
        "  print('ip-->',var[3],'    user-->',var[1])"
      ],
      "execution_count": 0,
      "outputs": [
        {
          "output_type": "stream",
          "text": [
            "ip--> 192.168.124.1     user--> hp1\n"
          ],
          "name": "stdout"
        }
      ]
    },
    {
      "cell_type": "code",
      "metadata": {
        "id": "zHGddEEqoAJJ",
        "colab_type": "code",
        "outputId": "3ee3aaf0-b76c-4f9f-9b6d-32e2d97eb4ba",
        "colab": {
          "base_uri": "https://localhost:8080/",
          "height": 68
        }
      },
      "source": [
        "#single code\n",
        "data = open('abc.log').readlines()\n",
        "for entry in data:\n",
        "  var = entry.split('::')\n",
        "  if entry.split('::')[-1].split('.')[1] in blocked:\n",
        "    print('ip-->',var[3],'    user-->',var[1],'   using-->',var[-1].split('.')[1])"
      ],
      "execution_count": 0,
      "outputs": [
        {
          "output_type": "stream",
          "text": [
            "ip--> 192.168.124.1     user--> hp1    using--> wwe\n",
            "ip--> 192.168.124.5     user--> hp2    using--> twitter\n",
            "ip--> 192.168.124.7     user--> hp5    using--> facebook\n"
          ],
          "name": "stdout"
        }
      ]
    },
    {
      "cell_type": "code",
      "metadata": {
        "id": "x3VjSd_CrNC3",
        "colab_type": "code",
        "outputId": "5e8d8f0f-399c-4d66-9d92-4ba46c59c4f3",
        "colab": {
          "base_uri": "https://localhost:8080/",
          "height": 34
        }
      },
      "source": [
        "!git init"
      ],
      "execution_count": 0,
      "outputs": [
        {
          "output_type": "stream",
          "text": [
            "Initialized empty Git repository in /content/.git/\n"
          ],
          "name": "stdout"
        }
      ]
    }
  ]
}